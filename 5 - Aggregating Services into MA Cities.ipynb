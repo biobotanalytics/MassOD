{
 "cells": [
  {
   "cell_type": "markdown",
   "metadata": {},
   "source": [
    "### Workbook to cycle through zipcodes listed in the SAMHSA datasets and aggregate into counts per zipcode"
   ]
  },
  {
   "cell_type": "code",
   "execution_count": 35,
   "metadata": {},
   "outputs": [],
   "source": [
    "import pandas as pd"
   ]
  },
  {
   "cell_type": "code",
   "execution_count": 36,
   "metadata": {},
   "outputs": [],
   "source": [
    "def city_merge_and_sum(city, column, zipcode_dictionary, zipcode_dataset):\n",
    "    \n",
    "  merged = pd.merge(zipcode_dictionary, zipcode_dataset, on=\"Zipcode\")\n",
    "  \n",
    "  cols=[i for i in merged.columns if i not in [\"Zipcode\",\"City\",\"County\"]]\n",
    "  for col in cols:\n",
    "    merged[col]=pd.to_numeric(merged[col])\n",
    "    \n",
    "  return merged[merged['City']==city][column].sum()\n",
    "\n",
    "# Where...\n",
    "# city: 'city_name'\n",
    "# column: 'column_of_interest'\n",
    "# zipcode_dictionary: dataframe; make sure column for zipcode = 'zipcode'\n",
    "# zipcode_dataset: dataframe; make sure column for zipcode = 'zipcode'\n",
    "\n",
    "# and returns:\n",
    "# the sum of the 'column_of_interest' for a given city\n"
   ]
  },
  {
   "cell_type": "code",
   "execution_count": 37,
   "metadata": {},
   "outputs": [],
   "source": [
    "def cities_merge_and_sum(column, zipcode_dictionary, zipcode_dataset):\n",
    "    merged = pd.merge(zipcode_dictionary, zipcode_dataset, on=\"Zipcode\")\n",
    "    \n",
    "    cols=[i for i in merged.columns if i not in ['Zipcode','City','County']]\n",
    "    for col in cols:\n",
    "        merged[col]=pd.to_numeric(merged[col])\n",
    "\n",
    "    City = []\n",
    "    Value = []\n",
    "    \n",
    "    for x in sorted(list(set(zipcode_dictionary['City']))):\n",
    "        City.append(x)\n",
    "        Value.append(merged[merged['City']==x][column].sum())\n",
    "    return City, Value\n",
    "\n",
    "# Where...\n",
    "# column: 'column_of_interest'\n",
    "# zipcode_dictionary: dataframe; make sure column for zipcode = 'zipcode'\n",
    "# zipcode_dataset: dataframe; make sure column for zipcode = 'zipcode'\n",
    "\n",
    "# and returns two lists:\n",
    "# (1) the cities, and\n",
    "# (2) sum of the 'column_of_interest' for a all cities zipcode dinctionary\n"
   ]
  },
  {
   "cell_type": "code",
   "execution_count": 38,
   "metadata": {},
   "outputs": [
    {
     "data": {
      "text/html": [
       "<div>\n",
       "<style scoped>\n",
       "    .dataframe tbody tr th:only-of-type {\n",
       "        vertical-align: middle;\n",
       "    }\n",
       "\n",
       "    .dataframe tbody tr th {\n",
       "        vertical-align: top;\n",
       "    }\n",
       "\n",
       "    .dataframe thead th {\n",
       "        text-align: right;\n",
       "    }\n",
       "</style>\n",
       "<table border=\"1\" class=\"dataframe\">\n",
       "  <thead>\n",
       "    <tr style=\"text-align: right;\">\n",
       "      <th></th>\n",
       "      <th>Zipcode</th>\n",
       "      <th>City</th>\n",
       "      <th>County</th>\n",
       "    </tr>\n",
       "  </thead>\n",
       "  <tbody>\n",
       "    <tr>\n",
       "      <td>0</td>\n",
       "      <td>01001</td>\n",
       "      <td>Agawam</td>\n",
       "      <td>Hampden</td>\n",
       "    </tr>\n",
       "    <tr>\n",
       "      <td>1</td>\n",
       "      <td>01002</td>\n",
       "      <td>Amherst</td>\n",
       "      <td>Hampshire</td>\n",
       "    </tr>\n",
       "    <tr>\n",
       "      <td>2</td>\n",
       "      <td>01005</td>\n",
       "      <td>Barre</td>\n",
       "      <td>Worcester</td>\n",
       "    </tr>\n",
       "    <tr>\n",
       "      <td>3</td>\n",
       "      <td>01007</td>\n",
       "      <td>Belchertown</td>\n",
       "      <td>Hampshire</td>\n",
       "    </tr>\n",
       "    <tr>\n",
       "      <td>4</td>\n",
       "      <td>01008</td>\n",
       "      <td>Blandford</td>\n",
       "      <td>Hampden</td>\n",
       "    </tr>\n",
       "  </tbody>\n",
       "</table>\n",
       "</div>"
      ],
      "text/plain": [
       "  Zipcode         City     County\n",
       "0   01001       Agawam    Hampden\n",
       "1   01002      Amherst  Hampshire\n",
       "2   01005        Barre  Worcester\n",
       "3   01007  Belchertown  Hampshire\n",
       "4   01008    Blandford    Hampden"
      ]
     },
     "execution_count": 38,
     "metadata": {},
     "output_type": "execute_result"
    }
   ],
   "source": [
    "# import the massachusettes zipcode dictionary\n",
    "massachusetts_zipcode_dictionary = pd.read_csv('~/Desktop/new_insights/data_files/final_zipcode_dictionary.csv', dtype = 'str', index_col=False)\n",
    "massachusetts_zipcode_dictionary = pd.DataFrame(massachusetts_zipcode_dictionary)\n",
    "massachusetts_zipcode_dictionary.head()"
   ]
  },
  {
   "cell_type": "code",
   "execution_count": 39,
   "metadata": {},
   "outputs": [
    {
     "data": {
      "text/plain": [
       "pandas.core.series.Series"
      ]
     },
     "execution_count": 39,
     "metadata": {},
     "output_type": "execute_result"
    }
   ],
   "source": [
    "target_zipcodes = massachusetts_zipcode_dictionary['Zipcode']\n",
    "type(target_zipcodes)"
   ]
  },
  {
   "cell_type": "code",
   "execution_count": 40,
   "metadata": {},
   "outputs": [],
   "source": [
    "import csv"
   ]
  },
  {
   "cell_type": "code",
   "execution_count": 41,
   "metadata": {},
   "outputs": [
    {
     "name": "stderr",
     "output_type": "stream",
     "text": [
      "/Users/matt/.local/lib/python3.7/site-packages/ipykernel_launcher.py:3: DeprecationWarning: 'U' mode is deprecated\n",
      "  This is separate from the ipykernel package so we can avoid doing imports until\n"
     ]
    }
   ],
   "source": [
    "# open the file in universal line ending mode \n",
    "#with open('~/Desktop/new_insights/data_files/opioid_services.csv', 'rU') as infile:\n",
    "with open('/Users/matt/Desktop/new_insights/data_files/opioid_services.csv', 'rU') as infile:\n",
    "  # read the file as a dictionary for each row ({header : value})\n",
    "  reader = csv.DictReader(infile)\n",
    "  data = {}\n",
    "  for row in reader:\n",
    "    for header, value in row.items():\n",
    "      try:\n",
    "        data[header].append(value)\n",
    "      except KeyError:\n",
    "        data[header] = [value]\n"
   ]
  },
  {
   "cell_type": "code",
   "execution_count": 42,
   "metadata": {},
   "outputs": [],
   "source": [
    "# extract the variables you want\n",
    "samhsa_certified = data['\\ufeffSA_samhsa_certified']\n",
    "buprenorphrine_physicians = data['buprenorphrine_physicians']\n",
    "EMHS_crisis_intervention = data['EMHS_crisis_intervention']\n",
    "SA_transitional_housing = data['SA_transitional_housing']\n",
    "SA_opioid_detoxification = data['SA_opioid_detoxification']"
   ]
  },
  {
   "cell_type": "code",
   "execution_count": 43,
   "metadata": {},
   "outputs": [],
   "source": [
    "samhsa_certified_list = list(filter(None, samhsa_certified)) # fastest\n",
    "buprenorphrine_physicians_list = list(filter(None, buprenorphrine_physicians)) # fastest\n",
    "EMHS_crisis_intervention_list = list(filter(None, EMHS_crisis_intervention)) # fastest\n",
    "SA_transitional_housing_list = list(filter(None, SA_transitional_housing)) # fastest\n",
    "SA_opioid_detoxification_list = list(filter(None, SA_opioid_detoxification)) # fastest"
   ]
  },
  {
   "cell_type": "code",
   "execution_count": 44,
   "metadata": {},
   "outputs": [
    {
     "data": {
      "text/plain": [
       "77"
      ]
     },
     "execution_count": 44,
     "metadata": {},
     "output_type": "execute_result"
    }
   ],
   "source": [
    "len(SA_opioid_detoxification_list)"
   ]
  },
  {
   "cell_type": "code",
   "execution_count": 45,
   "metadata": {},
   "outputs": [],
   "source": [
    "def zipcode_services_count(zipcode_of_services, zipcode_dictionary):\n",
    "    zc = []\n",
    "    services = []\n",
    "    \n",
    "    for zipcode in zipcode_dictionary['Zipcode']:\n",
    "        zc.append(zipcode)\n",
    "        if zipcode in zipcode_of_services:\n",
    "            services.append(zipcode_of_services.count(zipcode))\n",
    "        else:\n",
    "            services.append(0)\n",
    "    return zc, services\n",
    "        "
   ]
  },
  {
   "cell_type": "code",
   "execution_count": 46,
   "metadata": {},
   "outputs": [],
   "source": [
    "zipcode, samhsa_certified_zips = zipcode_services_count(samhsa_certified_list, \n",
    "                                                        massachusetts_zipcode_dictionary)\n",
    "zipcode, buprenorphrine_physicians_zips = zipcode_services_count(buprenorphrine_physicians_list, \n",
    "                                                        massachusetts_zipcode_dictionary)\n",
    "zipcode, EMHS_crisis_intervention_zips = zipcode_services_count(EMHS_crisis_intervention_list, \n",
    "                                                        massachusetts_zipcode_dictionary)\n",
    "zipcode, SA_transitional_housing_zips = zipcode_services_count(SA_transitional_housing_list, \n",
    "                                                        massachusetts_zipcode_dictionary)\n",
    "zipcode, SA_opioid_detoxification_zips = zipcode_services_count(SA_opioid_detoxification_list, \n",
    "                                                        massachusetts_zipcode_dictionary)"
   ]
  },
  {
   "cell_type": "code",
   "execution_count": null,
   "metadata": {},
   "outputs": [],
   "source": []
  },
  {
   "cell_type": "code",
   "execution_count": null,
   "metadata": {},
   "outputs": [],
   "source": []
  },
  {
   "cell_type": "code",
   "execution_count": 47,
   "metadata": {},
   "outputs": [
    {
     "data": {
      "text/html": [
       "<div>\n",
       "<style scoped>\n",
       "    .dataframe tbody tr th:only-of-type {\n",
       "        vertical-align: middle;\n",
       "    }\n",
       "\n",
       "    .dataframe tbody tr th {\n",
       "        vertical-align: top;\n",
       "    }\n",
       "\n",
       "    .dataframe thead th {\n",
       "        text-align: right;\n",
       "    }\n",
       "</style>\n",
       "<table border=\"1\" class=\"dataframe\">\n",
       "  <thead>\n",
       "    <tr style=\"text-align: right;\">\n",
       "      <th></th>\n",
       "      <th>Zipcode</th>\n",
       "      <th>SAMHSA Certified</th>\n",
       "      <th>Buprenorphrine Physicians</th>\n",
       "      <th>EMHS Crisis Intervention</th>\n",
       "      <th>Transitional Housing</th>\n",
       "      <th>Opioid Detoxification</th>\n",
       "    </tr>\n",
       "  </thead>\n",
       "  <tbody>\n",
       "    <tr>\n",
       "      <td>0</td>\n",
       "      <td>01001</td>\n",
       "      <td>0</td>\n",
       "      <td>0</td>\n",
       "      <td>0</td>\n",
       "      <td>0</td>\n",
       "      <td>0</td>\n",
       "    </tr>\n",
       "    <tr>\n",
       "      <td>1</td>\n",
       "      <td>01002</td>\n",
       "      <td>0</td>\n",
       "      <td>7</td>\n",
       "      <td>0</td>\n",
       "      <td>0</td>\n",
       "      <td>0</td>\n",
       "    </tr>\n",
       "    <tr>\n",
       "      <td>2</td>\n",
       "      <td>01005</td>\n",
       "      <td>0</td>\n",
       "      <td>9</td>\n",
       "      <td>0</td>\n",
       "      <td>0</td>\n",
       "      <td>0</td>\n",
       "    </tr>\n",
       "    <tr>\n",
       "      <td>3</td>\n",
       "      <td>01007</td>\n",
       "      <td>0</td>\n",
       "      <td>4</td>\n",
       "      <td>0</td>\n",
       "      <td>0</td>\n",
       "      <td>0</td>\n",
       "    </tr>\n",
       "    <tr>\n",
       "      <td>4</td>\n",
       "      <td>01008</td>\n",
       "      <td>0</td>\n",
       "      <td>0</td>\n",
       "      <td>0</td>\n",
       "      <td>0</td>\n",
       "      <td>0</td>\n",
       "    </tr>\n",
       "  </tbody>\n",
       "</table>\n",
       "</div>"
      ],
      "text/plain": [
       "  Zipcode  SAMHSA Certified  Buprenorphrine Physicians  \\\n",
       "0   01001                 0                          0   \n",
       "1   01002                 0                          7   \n",
       "2   01005                 0                          9   \n",
       "3   01007                 0                          4   \n",
       "4   01008                 0                          0   \n",
       "\n",
       "   EMHS Crisis Intervention  Transitional Housing  Opioid Detoxification  \n",
       "0                         0                     0                      0  \n",
       "1                         0                     0                      0  \n",
       "2                         0                     0                      0  \n",
       "3                         0                     0                      0  \n",
       "4                         0                     0                      0  "
      ]
     },
     "execution_count": 47,
     "metadata": {},
     "output_type": "execute_result"
    }
   ],
   "source": [
    "services_data = {'Zipcode':zipcode,\n",
    "        'SAMHSA Certified':samhsa_certified_zips,\n",
    "        'Buprenorphrine Physicians':buprenorphrine_physicians_zips,\n",
    "        'EMHS Crisis Intervention':EMHS_crisis_intervention_zips,\n",
    "        'Transitional Housing':SA_transitional_housing_zips,\n",
    "        'Opioid Detoxification':SA_opioid_detoxification_zips\n",
    "       }\n",
    "massachusetts_zipcode_number_services = pd.DataFrame(services_data)\n",
    "massachusetts_zipcode_number_services.head()"
   ]
  },
  {
   "cell_type": "code",
   "execution_count": 48,
   "metadata": {},
   "outputs": [],
   "source": [
    "### write out MA zipcode services count\n",
    "massachusetts_zipcode_number_services.to_csv('~/Desktop/new_insights/data_files/massachusetts_zipcode_health_services.csv', index = False)"
   ]
  },
  {
   "cell_type": "code",
   "execution_count": 49,
   "metadata": {},
   "outputs": [
    {
     "data": {
      "text/plain": [
       "10"
      ]
     },
     "execution_count": 49,
     "metadata": {},
     "output_type": "execute_result"
    }
   ],
   "source": [
    "city_merge_and_sum('Boston', 'Opioid Detoxification',\n",
    "                   zipcode_dictionary = massachusetts_zipcode_dictionary,\n",
    "                   zipcode_dataset = number_services)"
   ]
  },
  {
   "cell_type": "code",
   "execution_count": 50,
   "metadata": {},
   "outputs": [],
   "source": [
    "zipcode_dictionary = massachusetts_zipcode_dictionary\n",
    "zipcode_dataset = massachusetts_zipcode_number_services\n",
    "\n",
    "\n",
    "city, samhsa_certified = cities_merge_and_sum('SAMHSA Certified',\n",
    "                     zipcode_dictionary,\n",
    "                     zipcode_dataset)\n",
    "city, buprenorphrine_physicians = cities_merge_and_sum('Buprenorphrine Physicians',\n",
    "                     zipcode_dictionary,\n",
    "                     zipcode_dataset)\n",
    "city, EMHS_crisis_intervention = cities_merge_and_sum('EMHS Crisis Intervention',\n",
    "                     zipcode_dictionary,\n",
    "                     zipcode_dataset)\n",
    "city, SA_transitional_housing = cities_merge_and_sum('Transitional Housing',\n",
    "                     zipcode_dictionary,\n",
    "                     zipcode_dataset)\n",
    "city, SA_opioid_detoxification = cities_merge_and_sum('Opioid Detoxification',\n",
    "                     zipcode_dictionary,\n",
    "                     zipcode_dataset)"
   ]
  },
  {
   "cell_type": "code",
   "execution_count": 51,
   "metadata": {},
   "outputs": [
    {
     "data": {
      "text/plain": [
       "list"
      ]
     },
     "execution_count": 51,
     "metadata": {},
     "output_type": "execute_result"
    }
   ],
   "source": [
    "type(SA_opioid_detoxification)"
   ]
  },
  {
   "cell_type": "code",
   "execution_count": 52,
   "metadata": {},
   "outputs": [],
   "source": [
    "services_data = {'City':city,\n",
    "        'SAMHSA Certified':samhsa_certified,\n",
    "        'Buprenorphrine Physicians':buprenorphrine_physicians,\n",
    "        'EMHS Crisis Intervention':EMHS_crisis_intervention,\n",
    "        'Transitional Housing':SA_transitional_housing,\n",
    "        'Opioid Detoxification':SA_opioid_detoxification\n",
    "       }"
   ]
  },
  {
   "cell_type": "code",
   "execution_count": 53,
   "metadata": {},
   "outputs": [],
   "source": [
    "city_services = pd.DataFrame(services_data)"
   ]
  },
  {
   "cell_type": "code",
   "execution_count": 54,
   "metadata": {},
   "outputs": [
    {
     "data": {
      "text/html": [
       "<div>\n",
       "<style scoped>\n",
       "    .dataframe tbody tr th:only-of-type {\n",
       "        vertical-align: middle;\n",
       "    }\n",
       "\n",
       "    .dataframe tbody tr th {\n",
       "        vertical-align: top;\n",
       "    }\n",
       "\n",
       "    .dataframe thead th {\n",
       "        text-align: right;\n",
       "    }\n",
       "</style>\n",
       "<table border=\"1\" class=\"dataframe\">\n",
       "  <thead>\n",
       "    <tr style=\"text-align: right;\">\n",
       "      <th></th>\n",
       "      <th>City</th>\n",
       "      <th>SAMHSA Certified</th>\n",
       "      <th>Buprenorphrine Physicians</th>\n",
       "      <th>EMHS Crisis Intervention</th>\n",
       "      <th>Transitional Housing</th>\n",
       "      <th>Opioid Detoxification</th>\n",
       "    </tr>\n",
       "  </thead>\n",
       "  <tbody>\n",
       "    <tr>\n",
       "      <td>0</td>\n",
       "      <td>Abington</td>\n",
       "      <td>0</td>\n",
       "      <td>1</td>\n",
       "      <td>0</td>\n",
       "      <td>0</td>\n",
       "      <td>0</td>\n",
       "    </tr>\n",
       "    <tr>\n",
       "      <td>1</td>\n",
       "      <td>Acton</td>\n",
       "      <td>0</td>\n",
       "      <td>0</td>\n",
       "      <td>0</td>\n",
       "      <td>0</td>\n",
       "      <td>0</td>\n",
       "    </tr>\n",
       "    <tr>\n",
       "      <td>2</td>\n",
       "      <td>Acushnet</td>\n",
       "      <td>0</td>\n",
       "      <td>0</td>\n",
       "      <td>0</td>\n",
       "      <td>0</td>\n",
       "      <td>0</td>\n",
       "    </tr>\n",
       "    <tr>\n",
       "      <td>3</td>\n",
       "      <td>Adams</td>\n",
       "      <td>0</td>\n",
       "      <td>0</td>\n",
       "      <td>0</td>\n",
       "      <td>0</td>\n",
       "      <td>0</td>\n",
       "    </tr>\n",
       "    <tr>\n",
       "      <td>4</td>\n",
       "      <td>Agawam</td>\n",
       "      <td>0</td>\n",
       "      <td>0</td>\n",
       "      <td>1</td>\n",
       "      <td>0</td>\n",
       "      <td>0</td>\n",
       "    </tr>\n",
       "    <tr>\n",
       "      <td>...</td>\n",
       "      <td>...</td>\n",
       "      <td>...</td>\n",
       "      <td>...</td>\n",
       "      <td>...</td>\n",
       "      <td>...</td>\n",
       "      <td>...</td>\n",
       "    </tr>\n",
       "    <tr>\n",
       "      <td>298</td>\n",
       "      <td>Woburn</td>\n",
       "      <td>1</td>\n",
       "      <td>15</td>\n",
       "      <td>0</td>\n",
       "      <td>1</td>\n",
       "      <td>1</td>\n",
       "    </tr>\n",
       "    <tr>\n",
       "      <td>299</td>\n",
       "      <td>Worcester</td>\n",
       "      <td>7</td>\n",
       "      <td>126</td>\n",
       "      <td>1</td>\n",
       "      <td>3</td>\n",
       "      <td>6</td>\n",
       "    </tr>\n",
       "    <tr>\n",
       "      <td>300</td>\n",
       "      <td>Worthington</td>\n",
       "      <td>0</td>\n",
       "      <td>0</td>\n",
       "      <td>0</td>\n",
       "      <td>0</td>\n",
       "      <td>0</td>\n",
       "    </tr>\n",
       "    <tr>\n",
       "      <td>301</td>\n",
       "      <td>Wrentham</td>\n",
       "      <td>0</td>\n",
       "      <td>0</td>\n",
       "      <td>0</td>\n",
       "      <td>0</td>\n",
       "      <td>0</td>\n",
       "    </tr>\n",
       "    <tr>\n",
       "      <td>302</td>\n",
       "      <td>Yarmouth</td>\n",
       "      <td>1</td>\n",
       "      <td>2</td>\n",
       "      <td>0</td>\n",
       "      <td>0</td>\n",
       "      <td>0</td>\n",
       "    </tr>\n",
       "  </tbody>\n",
       "</table>\n",
       "<p>303 rows × 6 columns</p>\n",
       "</div>"
      ],
      "text/plain": [
       "            City  SAMHSA Certified  Buprenorphrine Physicians  \\\n",
       "0       Abington                 0                          1   \n",
       "1          Acton                 0                          0   \n",
       "2       Acushnet                 0                          0   \n",
       "3          Adams                 0                          0   \n",
       "4         Agawam                 0                          0   \n",
       "..           ...               ...                        ...   \n",
       "298       Woburn                 1                         15   \n",
       "299    Worcester                 7                        126   \n",
       "300  Worthington                 0                          0   \n",
       "301     Wrentham                 0                          0   \n",
       "302     Yarmouth                 1                          2   \n",
       "\n",
       "     EMHS Crisis Intervention  Transitional Housing  Opioid Detoxification  \n",
       "0                           0                     0                      0  \n",
       "1                           0                     0                      0  \n",
       "2                           0                     0                      0  \n",
       "3                           0                     0                      0  \n",
       "4                           1                     0                      0  \n",
       "..                        ...                   ...                    ...  \n",
       "298                         0                     1                      1  \n",
       "299                         1                     3                      6  \n",
       "300                         0                     0                      0  \n",
       "301                         0                     0                      0  \n",
       "302                         0                     0                      0  \n",
       "\n",
       "[303 rows x 6 columns]"
      ]
     },
     "execution_count": 54,
     "metadata": {},
     "output_type": "execute_result"
    }
   ],
   "source": [
    "city_services"
   ]
  },
  {
   "cell_type": "code",
   "execution_count": 55,
   "metadata": {},
   "outputs": [],
   "source": [
    "city_services.to_csv('~/Desktop/new_insights/data_files/massachusetts_cities_health_services.csv', index = False)"
   ]
  },
  {
   "cell_type": "code",
   "execution_count": null,
   "metadata": {},
   "outputs": [],
   "source": []
  }
 ],
 "metadata": {
  "kernelspec": {
   "display_name": "insight",
   "language": "python",
   "name": "insight"
  },
  "language_info": {
   "codemirror_mode": {
    "name": "ipython",
    "version": 3
   },
   "file_extension": ".py",
   "mimetype": "text/x-python",
   "name": "python",
   "nbconvert_exporter": "python",
   "pygments_lexer": "ipython3",
   "version": "3.7.4"
  }
 },
 "nbformat": 4,
 "nbformat_minor": 2
}
